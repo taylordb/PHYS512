{
 "cells": [
  {
   "cell_type": "code",
   "execution_count": 1,
   "metadata": {},
   "outputs": [],
   "source": [
    "import numpy as np\n",
    "import matplotlib.pyplot as plt\n",
    "from scipy import integrate "
   ]
  },
  {
   "cell_type": "markdown",
   "metadata": {},
   "source": [
    "# Problem 2\n",
    "\n",
    "*Write a recursive variable step size integrator like the one we wrote in class that does not call f(x) multiple times for the same x. The function prototype should be \"def integrate_adaptive(fun,a,b,tol,extra=None)\" where extra contains information a sub-call needs from preceeding calls. On the initial call, extra should be None so the integrator knows it's starting. For a few typical examples, how many function calls do you save vs. the lazy way we wrote it in class?*"
   ]
  },
  {
   "cell_type": "markdown",
   "metadata": {},
   "source": [
    "The function \"integrate_adaptive\" uses some of the same code as \"integrate\" from \"integrate_adaptive_class.py\". \n",
    "\n",
    "Here, integrate_adaptive saves the number of times it's called with \"integrate_step.calls\". The first call saves x and y=f(x) values, then all following calls save x and y and go through past values when evaluating y=f(x) to see if they exists already.\n",
    "\n",
    "The function \"test_fun\" counts the number of f(x) calls.\n",
    "\n",
    "f(x) is called 5 times within x from a to b so I wanted to sanity check that if some number of f(x) had already been evaluated then f(x) would be called less than 5 times. I use \"test_fun.subcounter\" to check this. \n",
    "\n",
    "\"test_fun.counter\" counts the number of times f(x) is called in total. The total number of f(x) calls would be 5$*$(number of integrate_adaptive calls) with the way the code was written in class."
   ]
  },
  {
   "cell_type": "code",
   "execution_count": 2,
   "metadata": {},
   "outputs": [],
   "source": [
    "# Define another function to check integrate_step with\n",
    "def xexp(x):\n",
    "    return x*np.exp(-x)\n",
    "\n",
    "# Define a function that counts the number of times it's called\n",
    "def test_fun(x,fun):\n",
    "    test_fun.subcounter+=1\n",
    "    test_fun.counter+=1\n",
    "    \n",
    "    y = fun(x)\n",
    "    return y\n",
    "\n",
    "# Define the adaptive integrator\n",
    "def integrate_adaptive(fun,a,b,tol):\n",
    "    \"\"\"\n",
    "    Parameters:\n",
    "    fun = function (the integrand)\n",
    "    a = lower limit of the integral\n",
    "    b = upper limit of the integral\n",
    "    tol = tolerance to decide whether to evaluate the 3 point integral on a smaller interval\n",
    "    \n",
    "    Returns:\n",
    "    integral of fun(x) from a to b\n",
    "    \"\"\"\n",
    "    \n",
    "    #print('calling function from ',a,b) # from class\n",
    "    \n",
    "    # Count the number of integrate_adaptive calls\n",
    "    integrate_adaptive.calls += 1\n",
    "    \n",
    "    # Set x from a to b and set dx\n",
    "    x=np.linspace(a,b,5)\n",
    "    dx=x[1]-x[0]\n",
    "    \n",
    "    # Evaluate y for the first call\n",
    "    if integrate_adaptive.calls == 1:\n",
    "        test_fun.subcounter=0 # for the sanity check\n",
    "        y=np.zeros(len(x))\n",
    "        for i in range(len(x)):\n",
    "            y[i] = fun(x[i])\n",
    "        #print('called fun {} times with x0'.format(test_fun.subcounter)) # sanity check\n",
    "    \n",
    "        # Append x, y values to integrate_adaptive\n",
    "        integrate_adaptive.x_vals+=[x]\n",
    "        integrate_adaptive.y_vals+=[y]\n",
    "        \n",
    "        # Save x, y values to integrate_adaptive and remove repeats\n",
    "        x_past = np.unique(integrate_adaptive.x_vals)\n",
    "        y_past = np.unique(integrate_adaptive.y_vals)\n",
    "        #print('x past = ', x_past) # sanity check\n",
    "        \n",
    "    # Evaluate y = f(x) for new x values only for all following calls\n",
    "    elif integrate_adaptive.calls > 1:\n",
    "\n",
    "        # Past x, y values with repeats removed\n",
    "        x_past = np.unique(integrate_adaptive.x_vals)\n",
    "        y_past = np.unique(integrate_adaptive.y_vals)\n",
    "        \n",
    "        # Find the indices of where past x values intersect with current x values\n",
    "        x_past_x = set(list(x)).intersection(list(x_past))\n",
    "        ind_past = [list(x_past).index(X) for X in x_past_x]\n",
    "        ind = [list(x).index(X) for X in x_past_x]\n",
    "        #print('ind past = {}, ind = {}'.format(ind_past,ind)) # sanity check\n",
    "        \n",
    "        # Fill current y with past y values AND evaluate y=f(x) for new x values only\n",
    "        y = np.zeros(len(x))\n",
    "        test_fun.subcounter=0 # for the sanity check\n",
    "        for i in range(len(x)):\n",
    "            if i in ind_past:\n",
    "                y[ind] = y_past[ind_past]\n",
    "            else:\n",
    "                y[i] = fun(x[i])\n",
    "        #print('called fun {} times with x1'.format(test_fun.subcounter)) # sanity check\n",
    "        \n",
    "        # Append x, y values to integrate_adaptive\n",
    "        integrate_adaptive.x_vals+=[x]\n",
    "        integrate_adaptive.y_vals+=[y]\n",
    "    \n",
    "    # 3-point integral from class\n",
    "    i1=(y[0]+4*y[2]+y[4])/3*(2*dx)\n",
    "    i2=(y[0]+4*y[1]+2*y[2]+4*y[3]+y[4])/3*dx\n",
    "    myerr=np.abs(i1-i2)\n",
    "    if myerr<tol:\n",
    "        return i2\n",
    "    else:\n",
    "        mid=(a+b)/2\n",
    "        int1=integrate_adaptive(fun,a,mid,tol/2)\n",
    "        int2=integrate_adaptive(fun,mid,b,tol/2)\n",
    "        return int1+int2"
   ]
  },
  {
   "cell_type": "markdown",
   "metadata": {},
   "source": [
    "Test for 3 functions: exp(x), x$*$exp(x), cos(x)."
   ]
  },
  {
   "cell_type": "code",
   "execution_count": 3,
   "metadata": {},
   "outputs": [
    {
     "name": "stdout",
     "output_type": "stream",
     "text": [
      "f(x) was called 2159 times. integrate_step was called 465 times.\n",
      "Since there are 5 points between a and b, the integrator from class would have called f(x) 2325 times\n",
      "So f(x) was called around 7% less with this method\n"
     ]
    }
   ],
   "source": [
    "# exp(x)\n",
    "\n",
    "# initialize integrate_adaptive calls and function calls\n",
    "integrate_adaptive.calls=0\n",
    "test_fun.counter=0\n",
    "\n",
    "# initialize x and y values\n",
    "integrate_adaptive.x_vals, integrate_adaptive.y_vals=[],[]\n",
    "\n",
    "# use x*exp(x), put it in test_fun to count function calls\n",
    "int_fun = lambda x: test_fun(x, np.exp)\n",
    "\n",
    "# evaluate the integral (limits, tol are the same as in class)\n",
    "ans=integrate_adaptive(int_fun,-4,6,1e-6)\n",
    "\n",
    "print('f(x) was called {} times. integrate_step was called {} times.'.format(test_fun.counter, integrate_adaptive.calls))\n",
    "print('Since there are 5 points between a and b, the integrator from class would have called f(x) {} times'.format(5*integrate_adaptive.calls))\n",
    "print('So f(x) was called around {}% less with this method'.format(int((5*integrate_adaptive.calls-test_fun.counter)*100/(5*integrate_adaptive.calls))))"
   ]
  },
  {
   "cell_type": "code",
   "execution_count": 4,
   "metadata": {},
   "outputs": [
    {
     "name": "stdout",
     "output_type": "stream",
     "text": [
      "f(x) was called 1899 times. integrate_step was called 413 times.\n",
      "Since there are 5 points between a and b, the integrator from class would have called f(x) 2065 times\n",
      "So f(x) was called around 8% less with this method\n"
     ]
    }
   ],
   "source": [
    "# x*exp(x)\n",
    "\n",
    "# initialize integrate_adaptive calls and function calls\n",
    "integrate_adaptive.calls=0\n",
    "test_fun.counter=0\n",
    "\n",
    "# initialize x and y values\n",
    "integrate_adaptive.x_vals, integrate_adaptive.y_vals=[],[]\n",
    "\n",
    "# use x*exp(x), put it in test_fun to count function calls\n",
    "int_fun = lambda x: test_fun(x, xexp)\n",
    "\n",
    "# evaluate the integral (limits, tol are the same as in class)\n",
    "ans=integrate_adaptive(int_fun,-4,6,1e-6)\n",
    "\n",
    "print('f(x) was called {} times. integrate_step was called {} times.'.format(test_fun.counter, integrate_adaptive.calls))\n",
    "print('Since there are 5 points between a and b, the integrator from class would have called f(x) {} times'.format(5*integrate_adaptive.calls))\n",
    "print('So f(x) was called around {}% less with this method'.format(int((5*integrate_adaptive.calls-test_fun.counter)*100/(5*integrate_adaptive.calls))))"
   ]
  },
  {
   "cell_type": "code",
   "execution_count": 5,
   "metadata": {},
   "outputs": [
    {
     "name": "stdout",
     "output_type": "stream",
     "text": [
      "f(x) was called 1369 times. integrate_step was called 307 times.\n",
      "Since there are 5 points between a and b, the integrator from class would have called f(x) 1535 times\n",
      "So f(x) was called around 10% less with this method\n"
     ]
    }
   ],
   "source": [
    "# cos(x)\n",
    "\n",
    "# initialize integrate_adaptive calls and function calls\n",
    "integrate_adaptive.calls=0\n",
    "test_fun.counter=0\n",
    "\n",
    "# initialize x and y values\n",
    "integrate_adaptive.x_vals, integrate_adaptive.y_vals=[],[]\n",
    "\n",
    "# use x*exp(x), put it in test_fun to count function calls\n",
    "int_fun = lambda x: test_fun(x, np.cos)\n",
    "\n",
    "# evaluate the integral (limits, tol are the same as in class)\n",
    "ans=integrate_adaptive(int_fun,-4,6,1e-6)\n",
    "\n",
    "print('f(x) was called {} times. integrate_step was called {} times.'.format(test_fun.counter, integrate_adaptive.calls))\n",
    "print('Since there are 5 points between a and b, the integrator from class would have called f(x) {} times'.format(5*integrate_adaptive.calls))\n",
    "print('So f(x) was called around {}% less with this method'.format(int((5*integrate_adaptive.calls-test_fun.counter)*100/(5*integrate_adaptive.calls))))"
   ]
  },
  {
   "cell_type": "markdown",
   "metadata": {},
   "source": [
    "# Problem 1 \n",
    "\n",
    "*Electric field $E$ from an infinitesimally thin spherical shell of charge with radius $R$ comes from working out the field from a ring along its central axis and integrating those rings to form a spherical shell. Use both your integrator and scipy.integrate.quad to plot $E=E(z)$, $z$ is the distance from the center of the sphere. Make sure plot covers regions with $X < R$ and $z > R$ and $z=R$. Is there a singularity in the integral, does quad care, does integrator?*"
   ]
  },
  {
   "cell_type": "markdown",
   "metadata": {},
   "source": [
    "Solution to Griffiths problem 2.7: \n",
    "\n",
    "The electric field is in the z-direction, the integral is set up as: \n",
    "\n",
    "$E(z) = \\frac{1}{4 \\pi \\epsilon_0} \\int_0^1 \\frac{\\sigma R^2 sin \\theta d \\theta d\\phi (z- R cos \\theta)}{(R^2 + z^2 - 2Rz cos \\theta) ^{3/2} } = \\frac{2 \\pi R^2 \\sigma}{4 \\pi \\epsilon_0} \\int_{-1}^{+1} \\frac{z - Ru}{(R^2 + z^2 - 2Rzu)^{3/2}}du$ where $u = cos \\theta$, $du = -sin \\theta$, and $\\sigma$ is the charge density of the spherical shell.\n",
    "\n",
    "Forget about the constants (set the fraction in front of the intergral to be 1, set R=1). Then $E(z) = \\int_{-1}^{+1} \\frac{z - u}{(1 + z^2 - 2zu)^{3/2}}du$.\n",
    "\n",
    "The analytical result is then $E(z) \\propto 0$ for $z<R$ and $E(z) \\propto 1/z^2$ for $z>R$.\n",
    "\n",
    "Note: I didn't write anything in my integrator from problem 2 to deal with the singularity at z=R (it just ran until I got an error for maximum recursion). So I decided to take z values greater than and less than R and evaluate the integral there."
   ]
  },
  {
   "cell_type": "code",
   "execution_count": 6,
   "metadata": {},
   "outputs": [
    {
     "name": "stdout",
     "output_type": "stream",
     "text": [
      "quad evaluated z at z=R=1\n"
     ]
    }
   ],
   "source": [
    "# # set u, evaluate integral from -1 to 1\n",
    "npts = 101\n",
    "u0, u1 = -1,1\n",
    "u_ = np.linspace(u0,u1,npts)\n",
    "\n",
    "# set z, take values from 0 to 2 (R=1 at midpoint)\n",
    "z_ = np.linspace(0,2,npts+100)\n",
    "# print to make sure z is evaluated at z=R\n",
    "if z_[z_==1]==1:\n",
    "    print('quad evaluated z at z=R=1')\n",
    "\n",
    "# set another z, this time excluding z=R=1\n",
    "z_new = np.array(list(z_[z_<1]) + list(z_[z_>1]))\n",
    "\n",
    "# evaluate the integral using integrate_adaptive\n",
    "Int = []\n",
    "for i in range(len(z_new)):\n",
    "\n",
    "    # initialize integrate_adaptive calls\n",
    "    integrate_adaptive.calls=0\n",
    "\n",
    "    # initialize x and y values\n",
    "    integrate_adaptive.x_vals, integrate_adaptive.y_vals=[],[]\n",
    "\n",
    "    # integrand (function of u for each z value)\n",
    "    integrand = lambda u: (z_new[i] - u)/(1 + z_new[i]**2 - 2*z_new[i]*u)**1.5\n",
    "    \n",
    "    # evaluate the integral from u (-1 to 1)\n",
    "    ans=integrate_adaptive(integrand,-1,1,1e-6)\n",
    "    Int.append(ans)\n",
    "\n",
    "# evaluate the integral using integrate.quad\n",
    "QuadInt = []\n",
    "for i in range(len(z_)):\n",
    "    \n",
    "    # integrand (function of u) for z values that include z=R=1\n",
    "    integrand = lambda u: (z_[i] - u)/(1 + z_[i]**2 - 2*z_[i]*u)**1.5\n",
    "    \n",
    "    quadint = integrate.quad(integrand, -1, 1)[0]\n",
    "    QuadInt.append(quadint)"
   ]
  },
  {
   "cell_type": "code",
   "execution_count": 7,
   "metadata": {},
   "outputs": [
    {
     "data": {
      "image/png": "[encoded data removed]",
      "text/plain": [
       "<Figure size 576x288 with 1 Axes>"
      ]
     },
     "metadata": {
      "needs_background": "light"
     },
     "output_type": "display_data"
    }
   ],
   "source": [
    "# plot the results\n",
    "plt.figure(figsize=(8,4))\n",
    "plt.plot(z_new, Int, ls='', marker='.', c='k', label='integrate_adaptive integral')\n",
    "plt.plot(z_, QuadInt, ls='', marker='+', alpha=0.5, c='m', label='quad integral')\n",
    "plt.legend(loc='lower right')\n",
    "plt.ylabel('E(z)')\n",
    "plt.xlabel('z')\n",
    "plt.savefig('problem1.png')"
   ]
  },
  {
   "cell_type": "markdown",
   "metadata": {},
   "source": [
    "Fig: The quadratic integral follows the analytical result, and doesn't seem to care about the singularity at $z=R$. My integral will fail if it's given $z=R$, I think this is because it will keep halving the interval (a,b) to do the 3-point integral and never reach the desired tolerance. "
   ]
  },
  {
   "cell_type": "markdown",
   "metadata": {},
   "source": [
    "# Problem 3\n",
    "\n",
    "*Write a function that models the log base 2 of x valid from 0.5 to 1 to an accuracy in the region better than 1e-6. Use a truncated Chebyshev polynomial fit (np.polynomical.chebyshev.chebfit. How many polynomials do you need? Use many x/y values and fit to high order, then only keep the terms you think you'll need. Rescale x-range to go from -1 to 1 before calling chebfit.*\n",
    "\n",
    "*Write a routine called \"mylog2\" that will take the natural log of any positive number. Hint: use np.frexp, which breaks up a floating point number into its mantissa and exponent. Having the routine natively produce log base 2 will simplify life. Can use np.polynomial.chebyshev.chebval to evaluate the fit.*"
   ]
  },
  {
   "cell_type": "code",
   "execution_count": 8,
   "metadata": {},
   "outputs": [],
   "source": [
    "def chebfit_log2(x,y,tol=1e-6):\n",
    "    \"\"\"\n",
    "    Parameters:\n",
    "    x = x values, not rescaled for chebfit\n",
    "    y = log2(x), to model Chebyshev to\n",
    "    tol = tolerance for accuracy. This decides the number of terms for the Chebyshev model\n",
    "    \n",
    "    Returns:\n",
    "    cheb_truncated = coefficients of truncated Chebyshev fit to log2(x)\n",
    "    cheb_eval = Chebyshev model evaluated at x\n",
    "    \"\"\"\n",
    "\n",
    "    # rescale x for chebfit\n",
    "    x_rescale = 4*(x-0.75)\n",
    "\n",
    "    # Get Chebyshev polynomials, take 25 to start\n",
    "    order = 25\n",
    "    cheb_full = np.polynomial.chebyshev.chebfit(x_rescale, y, order)\n",
    "\n",
    "    # Starting at 2 coefficients, evaluate the Chebyshev model and check\n",
    "    # the mean absolute difference between that and log2(x). If it's greater\n",
    "    # than the tolerance (1e-6) then evaluate with more terms. Stop when\n",
    "    # the model is accurate enough\n",
    "    cheb_coeffs = [None]\n",
    "    for i in range(1,order):\n",
    "        cheb_model = np.polynomial.chebyshev.chebval(x_rescale, cheb_full[0:i])\n",
    "        if np.mean(np.abs(cheb_model - y)) > tol:\n",
    "            print('{} coefficients are not accurate enough'.format(i+1))\n",
    "        else:\n",
    "            print('{} coefficients give an accuracy of {}'.format(i+1,tol))\n",
    "            cheb_coeffs = cheb_full[0:i]\n",
    "            break\n",
    "\n",
    "    # Truncated Chebyshev coefficients\n",
    "    cheb_truncated = np.array(cheb_coeffs)\n",
    "\n",
    "    # Evaluate the Chebyshev fit\n",
    "    cheb_eval = np.polynomial.chebyshev.chebval(x_rescale, cheb_truncated)\n",
    "    \n",
    "    return cheb_truncated, cheb_eval"
   ]
  },
  {
   "cell_type": "code",
   "execution_count": 9,
   "metadata": {},
   "outputs": [
    {
     "name": "stdout",
     "output_type": "stream",
     "text": [
      "2 coefficients are not accurate enough\n",
      "3 coefficients are not accurate enough\n",
      "4 coefficients are not accurate enough\n",
      "5 coefficients are not accurate enough\n",
      "6 coefficients are not accurate enough\n",
      "7 coefficients are not accurate enough\n",
      "8 coefficients are not accurate enough\n",
      "9 coefficients give an accuracy of 1e-06\n"
     ]
    },
    {
     "data": {
      "image/png": "[encoded data removed]",
      "text/plain": [
       "<Figure size 576x360 with 2 Axes>"
      ]
     },
     "metadata": {
      "needs_background": "light"
     },
     "output_type": "display_data"
    }
   ],
   "source": [
    "# Get the truncated Chebyshev polynomial fit to log base 2 of x\n",
    "\n",
    "# log2(x) for x from 0.5 to 1\n",
    "npts = 101\n",
    "x0,x1 = 0.5, 1 \n",
    "x = np.linspace(x0,x1,npts)\n",
    "y = np.log2(x)\n",
    "\n",
    "# use function to get the model\n",
    "cheb_truncated, cheb_eval = chebfit_log2(x,y)\n",
    "\n",
    "# plot the results\n",
    "fig, (ax1, ax2) = plt.subplots(2,1,figsize=(8,5),tight_layout=True)\n",
    "ax1.set_title('log base 2 data and model')\n",
    "ax1.plot(x,y,label='log base 2')\n",
    "ax1.plot(x,cheb_eval,label='chebfit')\n",
    "ax2.set_title('residuals')\n",
    "ax2.plot(x,y-cheb_eval)\n",
    "fig.savefig('problem3_cheb_log2x.png')"
   ]
  },
  {
   "cell_type": "markdown",
   "metadata": {},
   "source": [
    "Fig: The Chebyshev model is accurate to better than 1e-6."
   ]
  },
  {
   "cell_type": "markdown",
   "metadata": {},
   "source": [
    "frexp(x) breaks up a number x into its mantissa and exponenet (x = mantissa$*$2^exponent). Here the mantissa range is from 0.5 to 1 so can use the above function to evaluate $ln(x)$.\n",
    "\n",
    "$log_2(x) = \\frac{ln(x)}{ln(2)}$ so $ln(x) = log_2(x)ln(2) $\n",
    "\n",
    "If $x=m*2^{\\alpha}$, then $ln(x) = ln(m) + \\alpha ln(2) = log_2(m)ln(2) + \\alpha ln(2)$"
   ]
  },
  {
   "cell_type": "code",
   "execution_count": 10,
   "metadata": {},
   "outputs": [],
   "source": [
    "def mylog2(x,tol=1e-6):\n",
    "    \"\"\"\n",
    "    Parameters:\n",
    "    x = any positive number\n",
    "    tol = tolerance for accuracy. This decides the number of terms for the Chebyshev model\n",
    "    \n",
    "    Returns:\n",
    "    lnx = natural log of x\n",
    "    \"\"\"\n",
    "    \n",
    "    # Break up x into its mantissa and exponenet:\n",
    "    m,alpha = np.frexp(x)\n",
    "    \n",
    "    # Use previous function to get a truncated Chebyshev \n",
    "    # fit to x between 0.5 and 1. \n",
    "    npts = 101\n",
    "    x0,x1 = 0.5, 1 \n",
    "    x = np.linspace(x0,x1,npts)\n",
    "    y = np.log2(x)\n",
    "    cheb_truncated, cheb_eval = chebfit_log2(x,y,tol)\n",
    "    \n",
    "    # Evaluate to get log base 2 of m (rescale m first to \n",
    "    # use the Chebyshev model)\n",
    "    m_rescale = 4*(m-0.75)\n",
    "    cheb_m = np.polynomial.chebyshev.chebval(m_rescale, cheb_truncated)\n",
    "    \n",
    "    # Natural log of x is ln(x) = ln(2)*(log2(m) + alpha)\n",
    "    lnx = np.log(2)*(cheb_m + alpha)\n",
    "    \n",
    "    return lnx"
   ]
  },
  {
   "cell_type": "code",
   "execution_count": 11,
   "metadata": {},
   "outputs": [
    {
     "name": "stdout",
     "output_type": "stream",
     "text": [
      "2 coefficients are not accurate enough\n",
      "3 coefficients are not accurate enough\n",
      "4 coefficients are not accurate enough\n",
      "5 coefficients are not accurate enough\n",
      "6 coefficients are not accurate enough\n",
      "7 coefficients are not accurate enough\n",
      "8 coefficients are not accurate enough\n",
      "9 coefficients are not accurate enough\n",
      "10 coefficients are not accurate enough\n",
      "11 coefficients are not accurate enough\n",
      "12 coefficients are not accurate enough\n",
      "13 coefficients are not accurate enough\n",
      "14 coefficients give an accuracy of 1e-10\n"
     ]
    },
    {
     "data": {
      "image/png": "[encoded data removed]",
      "text/plain": [
       "<Figure size 576x360 with 2 Axes>"
      ]
     },
     "metadata": {
      "needs_background": "light"
     },
     "output_type": "display_data"
    }
   ],
   "source": [
    "# Test function with some random x values and plot\n",
    "\n",
    "# get random x values \n",
    "test_x = np.random.randint(1,100000,size=1000)/10\n",
    "\n",
    "# use mylog2 to evaluate \n",
    "fit_lnx = mylog2(test_x, tol=1e-10)\n",
    "\n",
    "# use numpy to evaluate\n",
    "np_lnx = np.log(test_x)\n",
    "\n",
    "# plot results\n",
    "fig, (ax1,ax2) = plt.subplots(2,1,figsize=(8,5),tight_layout=True)\n",
    "ax1.plot(test_x, fit_lnx, ls='', marker='o', label='mylog2 ln(x)')\n",
    "ax1.plot(test_x, np_lnx, ls='', marker='o', label='numpy ln(x)')\n",
    "ax1.set_title('natural log of x')\n",
    "ax1.legend()\n",
    "ax2.plot(test_x, np_lnx-fit_lnx, ls='', marker='o')\n",
    "ax2.set_title('residuals')\n",
    "fig.savefig('problem3_cheb_lnx.png')"
   ]
  },
  {
   "cell_type": "markdown",
   "metadata": {},
   "source": [
    "Fig: I changed the tolerance to 1e-10 and it looks like the accuracy from the Chebyshev model is close to the difference between using np.log(x) vs. using mylog2(x)."
   ]
  },
  {
   "cell_type": "code",
   "execution_count": null,
   "metadata": {},
   "outputs": [],
   "source": []
  }
 ],
 "metadata": {
  "kernelspec": {
   "display_name": "Python [conda env:hera_env] *",
   "language": "python",
   "name": "conda-env-hera_env-py"
  },
  "language_info": {
   "codemirror_mode": {
    "name": "ipython",
    "version": 3
   },
   "file_extension": ".py",
   "mimetype": "text/x-python",
   "name": "python",
   "nbconvert_exporter": "python",
   "pygments_lexer": "ipython3",
   "version": "3.7.4"
  },
  "toc": {
   "base_numbering": 1,
   "nav_menu": {},
   "number_sections": true,
   "sideBar": true,
   "skip_h1_title": false,
   "title_cell": "Table of Contents",
   "title_sidebar": "Contents",
   "toc_cell": false,
   "toc_position": {},
   "toc_section_display": true,
   "toc_window_display": false
  }
 },
 "nbformat": 4,
 "nbformat_minor": 2
}
